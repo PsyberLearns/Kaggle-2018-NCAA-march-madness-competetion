{
 "cells": [
  {
   "cell_type": "markdown",
   "metadata": {},
   "source": [
    "#### This file trains a logisitc Regression model using the data provided from Kaggle and the Ken Pomeroys web scraped data"
   ]
  },
  {
   "cell_type": "markdown",
   "metadata": {},
   "source": [
    "Import logistic regression from sklearn"
   ]
  },
  {
   "cell_type": "code",
   "execution_count": null,
   "metadata": {},
   "outputs": [],
   "source": [
    "from sklearn.linear_model import LogisticRegressionCV\n",
    "from sklearn.utils import shuffle\n",
    "\n",
    "clf = LogisticRegressionCV(cv = 10, Cs=8, n_jobs=4, scoring=\"neg_log_loss\")"
   ]
  },
  {
   "cell_type": "markdown",
   "metadata": {},
   "source": [
    "Import data set as a csv file for pandas to manipulate and train logisitic regression model"
   ]
  },
  {
   "cell_type": "code",
   "execution_count": null,
   "metadata": {},
   "outputs": [],
   "source": [
    "import pandas as pd\n",
    "\n",
    "kaggleData = \"input/\"\n",
    "df_predict = pd.read_csv(kaggleData + \"Predictions.csv\")"
   ]
  },
  {
   "cell_type": "code",
   "execution_count": null,
   "metadata": {},
   "outputs": [],
   "source": [
    "X_train = df_predict[[\"AdjEM\", \"AdjO\", \"AdjD\", \"AdjT\"]]\n",
    "y_train = df_predict[\"Result\"]\n",
    "\n",
    "X_train, y_train = shuffle(X_train, y_train)\n",
    "clf.fit(X_train, y_train)"
   ]
  },
  {
   "cell_type": "code",
   "execution_count": null,
   "metadata": {},
   "outputs": [],
   "source": [
    "df_test = pd.read_csv(kaggleData + \"SampleSubmissionStage2.csv\")\n",
    "df_2018 = pd.read_csv(kaggleData + \"2018.csv\")\n",
    "df_test[\"AdjEM\"] = -1\n",
    "df_test[\"AdjO\"] = -1\n",
    "df_test[\"AdjD\"] = -1\n",
    "df_test[\"AdjT\"] = -1"
   ]
  },
  {
   "cell_type": "code",
   "execution_count": null,
   "metadata": {},
   "outputs": [],
   "source": [
    "for i in range(df_test.shape[0]):\n",
    "    row = df_test.loc[i]\n",
    "    year, team1, team2 = row.ID.split(\"_\")\n",
    "    team1, team2 = int(team1), int(team2)\n",
    "    team1stats = df_2018.loc[df_2018[\"TeamID\"] == team1]\n",
    "    team2stats = df_2018.loc[df_2018[\"TeamID\"] == team2]\n",
    "    df_test[\"AdjEM\"].loc[i] = team1stats.AdjEM.values[0] - team2stats.AdjEM.values[0]\n",
    "    df_test[\"AdjO\"].loc[i] = team1stats.AdjO.values[0] - team2stats.AdjO.values[0]\n",
    "    df_test[\"AdjD\"].loc[i] = team1stats.AdjD.values[0] - team2stats.AdjD.values[0]\n",
    "    df_test[\"AdjT\"].loc[i] = team1stats.AdjT.values[0] - team2stats.AdjT.values[0]"
   ]
  },
  {
   "cell_type": "code",
   "execution_count": null,
   "metadata": {},
   "outputs": [],
   "source": [
    "X_test = df_test[[\"AdjEM\", \"AdjO\", \"AdjD\", \"AdjT\"]]\n",
    "predictions = clf.predict_proba(X_test)"
   ]
  },
  {
   "cell_type": "code",
   "execution_count": null,
   "metadata": {},
   "outputs": [],
   "source": [
    "df_submission = pd.read_csv(kaggleData + \"SampleSubmissionStage2.csv\")"
   ]
  },
  {
   "cell_type": "code",
   "execution_count": null,
   "metadata": {},
   "outputs": [],
   "source": [
    "df_submission[\"Pred\"] = predictions\n",
    "df_submission.to_csv(kaggleData + \"realsubmission1.csv\", index=False)"
   ]
  },
  {
   "cell_type": "markdown",
   "metadata": {},
   "source": [
    "lets train another logisitic regression model with an additional feature, that is, home court advantage."
   ]
  },
  {
   "cell_type": "code",
   "execution_count": null,
   "metadata": {},
   "outputs": [],
   "source": [
    "df_advantage = df_predict.copy()\n",
    "df_advantage.drop([\"Unnamed: 0\", \"Season\"], axis=1, inplace=True)"
   ]
  },
  {
   "cell_type": "code",
   "execution_count": null,
   "metadata": {},
   "outputs": [],
   "source": [
    "for i in range(df_advantage.shape[0]):\n",
    "    if df_advantage[\"WLoc\"].loc[i] == \"N\":\n",
    "        df_advantage[\"WLoc\"].loc[i] = 0\n",
    "    elif df_advantage[\"WLoc\"].loc[i] == \"H\":\n",
    "        df_advantage[\"WLoc\"].loc[i] = 1\n",
    "    elif df_advantage[\"WLoc\"].loc[i] == \"A\":\n",
    "        df_advantage[\"WLoc\"].loc[i] = -1\n",
    "        \n",
    "    if i % 10000 == 0:\n",
    "        print(str(i) + \" iterations\")"
   ]
  },
  {
   "cell_type": "code",
   "execution_count": null,
   "metadata": {},
   "outputs": [],
   "source": [
    "df_advantage.to_csv(kaggleData + \"features.csv\")"
   ]
  },
  {
   "cell_type": "code",
   "execution_count": null,
   "metadata": {},
   "outputs": [],
   "source": [
    "df_advantage = pd.read_csv(kaggleData + \"features.csv\")\n",
    "clf = LogisticRegressionCV(cv=10, Cs=8, n_jobs=2, scoring=\"neg_log_loss\")\n",
    "X_train = df_advantage[[\"AdjEM\", \"AdjO\", \"AdjD\", \"AdjT\", \"WLoc\"]]\n",
    "y_train = df_advantage[\"Result\"]\n",
    "clf.fit(X_train, y_train)"
   ]
  },
  {
   "cell_type": "code",
   "execution_count": null,
   "metadata": {},
   "outputs": [],
   "source": [
    "for i in range(df_test.shape[0]):\n",
    "    row = df_test.loc[i]\n",
    "    year, team1, team2 = row.ID.split(\"_\")\n",
    "    team1, team2 = int(team1), int(team2)\n",
    "    team1stats = df_2018.loc[df_2018[\"TeamID\"] == team1]\n",
    "    team2stats = df_2018.loc[df_2018[\"TeamID\"] == team2]\n",
    "    df_test[\"AdjEM\"].loc[i] = team1stats.AdjEM.values[0] - team2stats.AdjEM.values[0]\n",
    "    df_test[\"AdjO\"].loc[i] = team1stats.AdjO.values[0] - team2stats.AdjO.values[0]\n",
    "    df_test[\"AdjD\"].loc[i] = team1stats.AdjD.values[0] - team2stats.AdjD.values[0]\n",
    "    df_test[\"AdjT\"].loc[i] = team1stats.AdjT.values[0] - team2stats.AdjT.values[0]"
   ]
  },
  {
   "cell_type": "code",
   "execution_count": null,
   "metadata": {},
   "outputs": [],
   "source": [
    "df_test.to_csv(kaggleData + \"SampleSubmissionStage2WithFeatures.csv\")"
   ]
  },
  {
   "cell_type": "code",
   "execution_count": null,
   "metadata": {},
   "outputs": [],
   "source": [
    "df_test[\"WLoc\"] = [1] * 2278"
   ]
  },
  {
   "cell_type": "code",
   "execution_count": null,
   "metadata": {},
   "outputs": [],
   "source": [
    "X_test = df_test[[\"AdjEM\", \"AdjO\", \"AdjD\", \"AdjT\", \"WLoc\"]]\n",
    "predictions = clf.predict_proba(X_test)\n",
    "df_submit = pd.read_csv(kaggleData + \"SampleSubmissionStage2.csv\")\n",
    "df_submit[\"Pred\"] = predictions"
   ]
  },
  {
   "cell_type": "code",
   "execution_count": null,
   "metadata": {},
   "outputs": [],
   "source": [
    "df_submit.to_csv(kaggleData + \"realsubmission2.csv\", index=False)"
   ]
  },
  {
   "cell_type": "code",
   "execution_count": null,
   "metadata": {},
   "outputs": [],
   "source": [
    "df_test[\"WLoc\"] = [-1] * 2278\n",
    "X_test = df_test[[\"AdjEM\", \"AdjO\", \"AdjD\", \"AdjT\", \"WLoc\"]]\n",
    "predictions = clf.predict_proba(X_test)\n",
    "df_submit = pd.read_csv(kaggleData + \"SampleSubmissionStage2.csv\")\n",
    "df_submit[\"Pred\"] = predictions\n",
    "df_submit.to_csv(kaggleData + \"realsubmission2.csv\", index=False)"
   ]
  }
 ],
 "metadata": {
  "kernelspec": {
   "display_name": "Python 3",
   "language": "python",
   "name": "python3"
  },
  "language_info": {
   "codemirror_mode": {
    "name": "ipython",
    "version": 3
   },
   "file_extension": ".py",
   "mimetype": "text/x-python",
   "name": "python",
   "nbconvert_exporter": "python",
   "pygments_lexer": "ipython3",
   "version": "3.6.4"
  }
 },
 "nbformat": 4,
 "nbformat_minor": 2
}
