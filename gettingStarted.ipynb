{
 "cells": [
  {
   "cell_type": "markdown",
   "metadata": {},
   "source": [
    "#### This file takes the id numbers assigned to each team from the kaggle dataset and tries to match it with the Pomeroy dataset\n"
   ]
  },
  {
   "cell_type": "code",
   "execution_count": null,
   "metadata": {},
   "outputs": [],
   "source": [
    "from subprocess import check_output\n",
    "import pandas as pd\n",
    "\n",
    "print(check_output(['ls', 'input']).decode('utf-8'))\n",
    "print(\"=\" * 20)\n",
    "print(check_output(['ls', 'Web_Scraping']).decode('utf-8'))"
   ]
  },
  {
   "cell_type": "code",
   "execution_count": null,
   "metadata": {},
   "outputs": [],
   "source": [
    "kaggleData = \"input/\"\n",
    "pomeroyData = \"Web_Scraping/\"\n",
    "\n",
    "df_id = pd.read_csv(kaggleData + \"Teams.csv\")\n",
    "print(\"======== df_id =========\")\n",
    "print(df_id.shape)\n",
    "print(df_id.head())"
   ]
  },
  {
   "cell_type": "code",
   "execution_count": null,
   "metadata": {},
   "outputs": [],
   "source": [
    "df_2018 = pd.read_csv(kaggleData + \"2018.csv\")\n",
    "print(\"======== df_2018 =========\")\n",
    "print(df_2018.shape)\n",
    "print(df_2018.head())"
   ]
  },
  {
   "cell_type": "markdown",
   "metadata": {},
   "source": [
    "Create dataframes from 2002-2017 and try to fill in TeamIDs column as much as possible"
   ]
  },
  {
   "cell_type": "code",
   "execution_count": null,
   "metadata": {},
   "outputs": [],
   "source": [
    "for year in range(2002, 2018):\n",
    "    exec('df_{} = pd.read_csv(pomeroyData + \"{}_final.csv\")'.format(year, year))\n",
    "    exec('df_{}[\"TeamID\"] = 0'.format(year))\n",
    "    exec('n = df_{}.shape[0]'.format(year))\n",
    "    for i in range(n):\n",
    "        exec('team = df_{}[\"Team\"].loc[i]'.format(year))\n",
    "        row = df_id.loc[df_id[\"TeamName\"] == team]\n",
    "        if row.empty:\n",
    "            continue\n",
    "        else:\n",
    "            exec('df_{}[\"TeamID\"].loc[i] = row.TeamID.values[0]'.format(year))"
   ]
  },
  {
   "cell_type": "code",
   "execution_count": null,
   "metadata": {},
   "outputs": [],
   "source": [
    "for year in range(2002, 2018):\n",
    "    exec('df_{} = pd.read_csv(pomeroyData + \"{}_final.csv\")'.format(year, year))\n",
    "    exec('df_{}[\"TeamID\"] = 0'.format(year))\n",
    "    exec('n = df_{}.shape[0]'.format(year))\n",
    "    for i in range(n):\n",
    "        exec('team = df_{}[\"Team\"].loc[i]'.format(year))\n",
    "        row = df_2018.loc[df_2018[\"Team\"] == team]\n",
    "        if row.empty:\n",
    "            continue\n",
    "        else:\n",
    "            exec('df_{}[\"TeamID\"].loc[i] = row.TeamID.values[0]'.format(year))"
   ]
  },
  {
   "cell_type": "code",
   "execution_count": null,
   "metadata": {},
   "outputs": [],
   "source": [
    "df_2008 = pd.read_csv(kaggleData + \"2008_final.csv\")\n",
    "for year in range(2002, 2008):\n",
    "    exec('df_{} = pd.read_csv(kaggleData + \"{}_final.csv\")'.format(year, year))\n",
    "    exec('n = df_{}.shape[0]'.format(year))\n",
    "    for i in range(n):\n",
    "        exec('team = df_{}[\"Team\"].loc[i]'.format(year))\n",
    "        row = df_2008.loc[df_2008[\"Team\"] == team]\n",
    "        if row.empty:\n",
    "            continue\n",
    "        else:\n",
    "            exec('df_{}[\"TeamID\"].loc[i] = row.TeamID.values[0]'.format(year))"
   ]
  },
  {
   "cell_type": "markdown",
   "metadata": {},
   "source": [
    "At the time of creating the data set, statistics from the 2018th year on Pomeroys website were not final results."
   ]
  },
  {
   "cell_type": "code",
   "execution_count": null,
   "metadata": {},
   "outputs": [],
   "source": [
    "for year in range(2002,2019):\n",
    "    if year != 2018:\n",
    "        exec('df_{} = pd.read_csv(kaggleData+\"{}_final.csv\")'.format(year,year))\n",
    "    else:\n",
    "        exec('df_{} = pd.read_csv(kaggleData + \"{}.csv\")'.format(year, year))\n",
    "        \n",
    "    ids = []\n",
    "    exec('n = df_{}.shape[0]'.format(year))\n",
    "    for i in range(0, n):\n",
    "        exec('row = df_{}.loc[i]'.format(year))\n",
    "        if row.TeamID in ids:\n",
    "            print(\"duplicate id of: {} in df_{}\".format(row.TeamID, year))\n",
    "            \n",
    "        ids.append(row.TeamID)"
   ]
  }
 ],
 "metadata": {
  "kernelspec": {
   "display_name": "Python 3",
   "language": "python",
   "name": "python3"
  },
  "language_info": {
   "codemirror_mode": {
    "name": "ipython",
    "version": 3
   },
   "file_extension": ".py",
   "mimetype": "text/x-python",
   "name": "python",
   "nbconvert_exporter": "python",
   "pygments_lexer": "ipython3",
   "version": "3.6.4"
  }
 },
 "nbformat": 4,
 "nbformat_minor": 2
}
