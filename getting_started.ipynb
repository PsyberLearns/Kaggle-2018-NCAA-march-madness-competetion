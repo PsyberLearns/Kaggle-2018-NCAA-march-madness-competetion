{
 "cells": [
  {
   "cell_type": "code",
   "execution_count": 1,
   "metadata": {},
   "outputs": [
    {
     "name": "stdout",
     "output_type": "stream",
     "text": [
      "2002_final.csv\n",
      "2018.csv\n",
      "Bracket_SampleTourney2018.png\n",
      "Cities.csv\n",
      "Cities_Prelim2018.csv\n",
      "ConferenceTourneyGames.csv\n",
      "Conferences.csv\n",
      "Events_2010.csv\n",
      "Events_2011.csv\n",
      "Events_2012.csv\n",
      "Events_2013.csv\n",
      "Events_2014.csv\n",
      "Events_2015.csv\n",
      "Events_2016.csv\n",
      "Events_2017.csv\n",
      "Events_2018.csv\n",
      "Events_Prelim2018.csv\n",
      "GameCities.csv\n",
      "GameCities_Prelim2018.csv\n",
      "MasseyOrdinals.csv\n",
      "MasseyOrdinals_Prelim2018.csv\n",
      "MasseyOrdinals_thruSeason2018_Day128.csv\n",
      "NCAATourneyCompactResults.csv\n",
      "NCAATourneyDetailedResults.csv\n",
      "NCAATourneySeedRoundSlots.csv\n",
      "NCAATourneySeeds.csv\n",
      "NCAATourneySeeds_SampleTourney2018.csv\n",
      "NCAATourneySlots.csv\n",
      "NCAATourneySlots_SampleTourney2018.csv\n",
      "Players_2010.csv\n",
      "Players_2011.csv\n",
      "Players_2012.csv\n",
      "Players_2013.csv\n",
      "Players_2014.csv\n",
      "Players_2015.csv\n",
      "Players_2016.csv\n",
      "Players_2017.csv\n",
      "Players_2018.csv\n",
      "Players_Prelim2018.csv\n",
      "RegularSeasonCompactResults.csv\n",
      "RegularSeasonCompactResults_Prelim2018.csv\n",
      "RegularSeasonDetailedResults.csv\n",
      "RegularSeasonDetailedResults_Prelim2018.csv\n",
      "SampleSubmissionStage1.csv\n",
      "SampleSubmissionStage2.csv\n",
      "SampleSubmissionStage2_SampleTourney2018.csv\n",
      "Seasons.csv\n",
      "Seasons_SampleTourney2018.csv\n",
      "SecondaryTourneyCompactResults.csv\n",
      "SecondaryTourneyTeams.csv\n",
      "TeamCoaches.csv\n",
      "TeamCoaches_Prelim2018.csv\n",
      "TeamConferences.csv\n",
      "TeamSpellings.csv\n",
      "Teams.csv\n",
      "\n",
      "====================\n",
      "0_beautifulsoup4.py\n",
      "2002_final.csv\n",
      "2003_final.csv\n",
      "2004_final.csv\n",
      "2005_final.csv\n",
      "2006_final.csv\n",
      "2007_final.csv\n",
      "2008_final.csv\n",
      "2009_final.csv\n",
      "2010_final.csv\n",
      "2011_final.csv\n",
      "2012_final.csv\n",
      "2013_final.csv\n",
      "2014_final.csv\n",
      "2015_final.csv\n",
      "2016_final.csv\n",
      "2017_final.csv\n",
      "2018.csv\n",
      "kenPomeroyScraper.py\n",
      "\n"
     ]
    }
   ],
   "source": [
    "from subprocess import check_output\n",
    "import pandas as pd\n",
    "\n",
    "print(check_output(['ls', 'input']).decode('utf-8'))\n",
    "print(\"=\" * 20)\n",
    "print(check_output(['ls', 'Web_Scraping']).decode('utf-8'))"
   ]
  },
  {
   "cell_type": "code",
   "execution_count": 2,
   "metadata": {},
   "outputs": [
    {
     "name": "stdout",
     "output_type": "stream",
     "text": [
      "======== df_id =========\n",
      "(364, 4)\n",
      "   TeamID     TeamName  FirstD1Season  LastD1Season\n",
      "0    1101  Abilene Chr           2014          2018\n",
      "1    1102    Air Force           1985          2018\n",
      "2    1103        Akron           1985          2018\n",
      "3    1104      Alabama           1985          2018\n",
      "4    1105  Alabama A&M           2000          2018\n"
     ]
    }
   ],
   "source": [
    "kaggleData = \"input/\"\n",
    "pomeroyData = \"Web_Scraping/\"\n",
    "\n",
    "df_id = pd.read_csv(kaggleData + \"Teams.csv\")\n",
    "print(\"======== df_id =========\")\n",
    "print(df_id.shape)\n",
    "print(df_id.head())"
   ]
  },
  {
   "cell_type": "code",
   "execution_count": 3,
   "metadata": {},
   "outputs": [
    {
     "name": "stdout",
     "output_type": "stream",
     "text": [
      "======== df_2018 =========\n",
      "(351, 15)\n",
      "   Unnamed: 0  Rank        Team  Conf     W-L  AdjEM   AdjO  AdjD  AdjT  \\\n",
      "0           0     1    Virginia   ACC  Feb-31  32.15  116.5  84.4  59.2   \n",
      "1           1     2   Villanova    BE  30-Apr  31.41  127.4  96.0  68.3   \n",
      "2           2     3        Duke   ACC  26-Jul  29.13  122.6  93.5  70.0   \n",
      "3           3     4  Cincinnati  Amer  30-Apr  27.00  113.2  86.2  64.7   \n",
      "4           4     5      Purdue   B10  28-Jun  26.67  123.2  96.6  67.2   \n",
      "\n",
      "    Luck  SOC AdjEM  SOC OppO  SOC OppD  NCSOS AdjEM  TeamID  \n",
      "0  0.032       9.99     110.9     100.9         0.22    1438  \n",
      "1 -0.018      10.23     111.3     101.1         4.11    1437  \n",
      "2 -0.029      10.90     111.0     100.1         4.61    1181  \n",
      "3 -0.004       3.18     107.0     103.8        -4.14    1153  \n",
      "4  0.003       8.55     109.3     100.8         0.91    1345  \n"
     ]
    }
   ],
   "source": [
    "df_2018 = pd.read_csv(kaggleData + \"2018.csv\")\n",
    "print(\"======== df_2018 =========\")\n",
    "print(df_2018.shape)\n",
    "print(df_2018.head())"
   ]
  },
  {
   "cell_type": "markdown",
   "metadata": {},
   "source": [
    "Create dataframes from 2002-2017 and try to fill in TeamIDs column as much as possible"
   ]
  },
  {
   "cell_type": "code",
   "execution_count": 5,
   "metadata": {},
   "outputs": [
    {
     "name": "stderr",
     "output_type": "stream",
     "text": [
      "/usr/local/lib/python3.6/site-packages/pandas/core/indexing.py:179: SettingWithCopyWarning: \n",
      "A value is trying to be set on a copy of a slice from a DataFrame\n",
      "\n",
      "See the caveats in the documentation: http://pandas.pydata.org/pandas-docs/stable/indexing.html#indexing-view-versus-copy\n",
      "  self._setitem_with_indexer(indexer, value)\n"
     ]
    }
   ],
   "source": [
    "for year in range(2002, 2018):\n",
    "    exec('df_{} = pd.read_csv(pomeroyData + \"{}_final.csv\")'.format(year, year))\n",
    "    exec('df_{}[\"TeamID\"] = 0'.format(year))\n",
    "    exec('n = df_{}.shape[0]'.format(year))\n",
    "    for i in range(n):\n",
    "        exec('team = df_{}[\"Team\"].loc[i]'.format(year))\n",
    "        row = df_id.loc[df_id[\"TeamName\"] == team]\n",
    "        if row.empty:\n",
    "            continue\n",
    "        else:\n",
    "            exec('df_{}[\"TeamID\"].loc[i] = row.TeamID.values[0]'.format(year))"
   ]
  },
  {
   "cell_type": "code",
   "execution_count": 8,
   "metadata": {},
   "outputs": [
    {
     "name": "stderr",
     "output_type": "stream",
     "text": [
      "/usr/local/lib/python3.6/site-packages/pandas/core/indexing.py:179: SettingWithCopyWarning: \n",
      "A value is trying to be set on a copy of a slice from a DataFrame\n",
      "\n",
      "See the caveats in the documentation: http://pandas.pydata.org/pandas-docs/stable/indexing.html#indexing-view-versus-copy\n",
      "  self._setitem_with_indexer(indexer, value)\n"
     ]
    }
   ],
   "source": [
    "for year in range(2002, 2018):\n",
    "    exec('df_{} = pd.read_csv(pomeroyData + \"{}_final.csv\")'.format(year, year))\n",
    "    exec('df_{}[\"TeamID\"] = 0'.format(year))\n",
    "    exec('n = df_{}.shape[0]'.format(year))\n",
    "    for i in range(n):\n",
    "        exec('team = df_{}[\"Team\"].loc[i]'.format(year))\n",
    "        row = df_2018.loc[df_2018[\"Team\"] == team]\n",
    "        if row.empty:\n",
    "            continue\n",
    "        else:\n",
    "            exec('df_{}[\"TeamID\"].loc[i] = row.TeamID.values[0]'.format(year))"
   ]
  },
  {
   "cell_type": "code",
   "execution_count": 21,
   "metadata": {},
   "outputs": [],
   "source": [
    "#for year in range(2003, 2018):\n",
    "#    exec('df_{}.set_index(\"Rank\", inplace=True)'.format(year))\n",
    "#    exec('df_{}.to_csv(kaggleData + \"{}_final.csv\")'.format(year, year))"
   ]
  },
  {
   "cell_type": "code",
   "execution_count": 23,
   "metadata": {},
   "outputs": [
    {
     "name": "stderr",
     "output_type": "stream",
     "text": [
      "/usr/local/lib/python3.6/site-packages/pandas/core/indexing.py:179: SettingWithCopyWarning: \n",
      "A value is trying to be set on a copy of a slice from a DataFrame\n",
      "\n",
      "See the caveats in the documentation: http://pandas.pydata.org/pandas-docs/stable/indexing.html#indexing-view-versus-copy\n",
      "  self._setitem_with_indexer(indexer, value)\n"
     ]
    }
   ],
   "source": [
    "df_2008 = pd.read_csv(kaggleData + \"2008_final.csv\")\n",
    "for year in range(2002, 2008):\n",
    "    exec('df_{} = pd.read_csv(kaggleData + \"{}_final.csv\")'.format(year, year))\n",
    "    exec('n = df_{}.shape[0]'.format(year))\n",
    "    for i in range(n):\n",
    "        exec('team = df_{}[\"Team\"].loc[i]'.format(year))\n",
    "        row = df_2008.loc[df_2008[\"Team\"] == team]\n",
    "        if row.empty:\n",
    "            continue\n",
    "        else:\n",
    "            exec('df_{}[\"TeamID\"].loc[i] = row.TeamID.values[0]'.format(year))"
   ]
  },
  {
   "cell_type": "code",
   "execution_count": 25,
   "metadata": {},
   "outputs": [],
   "source": [
    "#for year in range(2002, 2008):\n",
    "#    exec('df_{}.set_index(\"Rank\", inplace=True)'.format(year))\n",
    "#    exec('df_{}.to_csv(kaggleData + \"{}_final.csv\")'.format(year, year))"
   ]
  },
  {
   "cell_type": "code",
   "execution_count": 43,
   "metadata": {},
   "outputs": [],
   "source": [
    "for year in range(2002,2019):\n",
    "    if year != 2018:\n",
    "        exec('df_{} = pd.read_csv(kaggleData+\"{}_final.csv\")'.format(year,year))\n",
    "    else:\n",
    "        exec('df_{} = pd.read_csv(kaggleData + \"{}.csv\")'.format(year, year))\n",
    "        \n",
    "    ids = []\n",
    "    exec('n = df_{}.shape[0]'.format(year))\n",
    "    for i in range(0, n):\n",
    "        exec('row = df_{}.loc[i]'.format(year))\n",
    "        if row.TeamID in ids:\n",
    "            print(\"duplicate id of: {} in df_{}\".format(row.TeamID, year))\n",
    "            \n",
    "        ids.append(row.TeamID)"
   ]
  },
  {
   "cell_type": "code",
   "execution_count": null,
   "metadata": {},
   "outputs": [],
   "source": []
  }
 ],
 "metadata": {
  "kernelspec": {
   "display_name": "Python 3",
   "language": "python",
   "name": "python3"
  },
  "language_info": {
   "codemirror_mode": {
    "name": "ipython",
    "version": 3
   },
   "file_extension": ".py",
   "mimetype": "text/x-python",
   "name": "python",
   "nbconvert_exporter": "python",
   "pygments_lexer": "ipython3",
   "version": "3.6.4"
  }
 },
 "nbformat": 4,
 "nbformat_minor": 2
}
