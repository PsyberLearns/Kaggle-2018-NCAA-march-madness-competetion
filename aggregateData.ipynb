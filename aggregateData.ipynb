{
 "cells": [
  {
   "cell_type": "markdown",
   "metadata": {},
   "source": [
    "#### This file aggregates the data provided by Kaggle and the web scraped Pomeroy data"
   ]
  },
  {
   "cell_type": "code",
   "execution_count": null,
   "metadata": {},
   "outputs": [],
   "source": [
    "import pandas as pd\n",
    "import numpy as np\n",
    "kaggleData = \"input/\"\n",
    "\n",
    "df_results = pd.read_csv(kaggleData + \"RegularSeasonCompactResults.csv\")\n",
    "print(df_tourney.shape)\n",
    "df_results.head()"
   ]
  },
  {
   "cell_type": "markdown",
   "metadata": {},
   "source": [
    "drop season results before 2002 since we dont have any data on those from the pomeroy data set"
   ]
  },
  {
   "cell_type": "code",
   "execution_count": null,
   "metadata": {},
   "outputs": [],
   "source": [
    "df_results.drop(df_season.index[:69493], inplace=True)\n",
    "df_results.index = np.arange(0, df_season.shape[0])"
   ]
  },
  {
   "cell_type": "code",
   "execution_count": null,
   "metadata": {},
   "outputs": [],
   "source": [
    "df_results"
   ]
  },
  {
   "cell_type": "code",
   "execution_count": null,
   "metadata": {},
   "outputs": [],
   "source": [
    "df_results[\"WAdjEM\"] = -1\n",
    "df_results[\"WAdjO\"] = -1\n",
    "df_results[\"WAdjD\"] = -1\n",
    "df_results[\"WAdjT\"] = -1"
   ]
  },
  {
   "cell_type": "code",
   "execution_count": null,
   "metadata": {},
   "outputs": [],
   "source": [
    "for year in range(2002, 2019):\n",
    "    if year != 2018:\n",
    "        exec('df_{} = pd.read_csv(kaggleData + \"{}_final.csv\")'.format(year, year))\n",
    "    else:\n",
    "        exec('df_{} = pd.read_csv(kaggleData + \"{}.csv\")'.format(year, year))"
   ]
  },
  {
   "cell_type": "code",
   "execution_count": null,
   "metadata": {},
   "outputs": [],
   "source": [
    "for i in range(df_results.shape[0]):\n",
    "    season, WTeamID = df_results[\"Season\"].loc[i], df_results[\"WTeamID\"].loc[i]\n",
    "    exec('row = df_{}.loc[df_{}[\"TeamID\"] == WTeamID]'.format(season, season))\n",
    "    if row.empty:\n",
    "        continue\n",
    "    else:\n",
    "        df_results[\"WAdjEM\"].loc[i] =  row.AdjEM.values[0]\n",
    "        df_results[\"WAdjO\"].loc[i] =  row.AdjO.values[0]\n",
    "        df_results[\"WAdjD\"].loc[i] =  row.AdjD.values[0]\n",
    "        df_results[\"WAdjT\"].loc[i] =  row.AdjT.values[0]\n",
    "    if i % 10000 == 0:\n",
    "        print(str(i) + \"iterations\")\n",
    "    "
   ]
  },
  {
   "cell_type": "code",
   "execution_count": null,
   "metadata": {},
   "outputs": [],
   "source": [
    "df_results[\"LAdjEM\"] = -1\n",
    "df_results[\"LAdjO\"] = -1\n",
    "df_results[\"LAdjD\"] = -1\n",
    "df_results[\"LAdjT\"] = -1"
   ]
  },
  {
   "cell_type": "code",
   "execution_count": null,
   "metadata": {},
   "outputs": [],
   "source": [
    "for i in range(df_results.shape[0]):\n",
    "    season, LTeamID = df_results[\"Season\"].loc[i], df_results[\"LTeamID\"].loc[i]\n",
    "    exec('row = df_{}.loc[df_{}[\"TeamID\"] == LTeamID]'.format(season, season))\n",
    "    if row.empty:\n",
    "        continue\n",
    "    else:\n",
    "        df_results[\"LAdjEM\"].loc[i] =  row.AdjEM.values[0]\n",
    "        df_results[\"LAdjO\"].loc[i] =  row.AdjO.values[0]\n",
    "        df_results[\"LAdjD\"].loc[i] =  row.AdjD.values[0]\n",
    "        df_results[\"LAdjT\"].loc[i] =  row.AdjT.values[0]\n",
    "    if i % 5000 == 0:\n",
    "        print(str(i) + \" iterations\")\n",
    "    "
   ]
  },
  {
   "cell_type": "code",
   "execution_count": null,
   "metadata": {},
   "outputs": [],
   "source": [
    "df_results"
   ]
  },
  {
   "cell_type": "code",
   "execution_count": null,
   "metadata": {},
   "outputs": [],
   "source": [
    "df_results = pd.read_csv(kaggleData + \"training.csv\")\n",
    "df_results.drop([\"Unnamed: 0\", \"DayNum\", \"NumOT\", \"WScore\", \"LScore\"], axis=1, inplace=True)"
   ]
  },
  {
   "cell_type": "code",
   "execution_count": null,
   "metadata": {},
   "outputs": [],
   "source": [
    "df_winners, df_losers = df_results.copy(), df_results.copy()"
   ]
  },
  {
   "cell_type": "code",
   "execution_count": null,
   "metadata": {},
   "outputs": [],
   "source": [
    "df_winners[\"AdjEM\"] = df_winners[\"WAdjEM\"] - df_winners[\"LAdjEM\"]\n",
    "df_winners[\"AdjO\"] = df_winners[\"WAdjO\"] - df_winners[\"LAdjO\"]\n",
    "df_winners[\"AdjD\"] = df_winners[\"WAdjD\"] - df_winners[\"LAdjD\"]\n",
    "df_winners[\"AdjT\"] = df_winners[\"WAdjT\"] - df_winners[\"LAdjT\"]\n",
    "df_winners.drop([\"WAdjEM\", \"WAdjO\", \"WAdjD\", \"WAdjT\", \"LAdjEM\", \"LAdjO\", \"LAdjD\", \"LAdjT\", \"LTeamID\"], axis=1, inplace=True)"
   ]
  },
  {
   "cell_type": "code",
   "execution_count": null,
   "metadata": {},
   "outputs": [],
   "source": [
    "df_winners[\"Result\"] = 1\n",
    "df_winners"
   ]
  },
  {
   "cell_type": "code",
   "execution_count": null,
   "metadata": {},
   "outputs": [],
   "source": [
    "df_losers[\"AdjEM\"] = -(df_losers[\"WAdjEM\"] - df_losers[\"LAdjEM\"])\n",
    "df_losers[\"AdjO\"] = -(df_losers[\"WAdjO\"] - df_losers[\"LAdjO\"])\n",
    "df_losers[\"AdjD\"] = -(df_losers[\"WAdjD\"] - df_losers[\"LAdjD\"])\n",
    "df_losers[\"AdjT\"] = -(df_losers[\"WAdjT\"] - df_losers[\"LAdjT\"])\n",
    "df_losers.drop([\"WAdjEM\", \"WAdjO\", \"WAdjD\", \"WAdjT\", \"LAdjEM\", \"LAdjO\", \"LAdjD\", \"LAdjT\", \"WTeamID\"], axis=1, inplace=True)\n",
    "df_losers[\"Result\"] = 0"
   ]
  },
  {
   "cell_type": "code",
   "execution_count": null,
   "metadata": {},
   "outputs": [],
   "source": [
    "for i in range(df_losers.shape[0]):\n",
    "    if df_losers[\"WLoc\"].loc[i] == \"N\":\n",
    "        continue\n",
    "    \n",
    "    if df_losers[\"WLoc\"].loc[i] == \"H\":\n",
    "        df_losers[\"WLoc\"].loc[i] = \"A\"\n",
    "    else:\n",
    "        df_losers[\"WLoc\"].loc[i] = \"H\""
   ]
  },
  {
   "cell_type": "code",
   "execution_count": null,
   "metadata": {},
   "outputs": [],
   "source": [
    "df_predictions = pd.concat((df_winners, df_losers))"
   ]
  },
  {
   "cell_type": "code",
   "execution_count": null,
   "metadata": {},
   "outputs": [],
   "source": [
    "df_predictions.drop([\"LTeamID\", \"WTeamID\"], axis=1, inplace=True)"
   ]
  },
  {
   "cell_type": "code",
   "execution_count": null,
   "metadata": {},
   "outputs": [],
   "source": [
    "df_predictions.to_csv(kaggleData + \"Predictions.csv\")"
   ]
  },
  {
   "cell_type": "code",
   "execution_count": null,
   "metadata": {},
   "outputs": [],
   "source": [
    "from sklearn.linear_model import LogisticRegressionCV\n",
    "from sklearn.utils import shuffle\n",
    "\n",
    "clf = LogisticRegressionCV(cv=5, Cs=8, n_jobs=-1, scoring=\"neg_log_loss\")"
   ]
  },
  {
   "cell_type": "code",
   "execution_count": null,
   "metadata": {},
   "outputs": [],
   "source": [
    "X_train = df_predictions[[\"AdjEM\", \"AdjO\", \"AdjD\", \"AdjT\"]]\n",
    "y_train = df_predictions[\"Result\"]"
   ]
  },
  {
   "cell_type": "code",
   "execution_count": null,
   "metadata": {},
   "outputs": [],
   "source": [
    "X_train, y_train = shuffle(X_train, y_train)\n",
    "clf.fit(X_train, y_train)"
   ]
  }
 ],
 "metadata": {
  "kernelspec": {
   "display_name": "Python 3",
   "language": "python",
   "name": "python3"
  },
  "language_info": {
   "codemirror_mode": {
    "name": "ipython",
    "version": 3
   },
   "file_extension": ".py",
   "mimetype": "text/x-python",
   "name": "python",
   "nbconvert_exporter": "python",
   "pygments_lexer": "ipython3",
   "version": "3.6.4"
  }
 },
 "nbformat": 4,
 "nbformat_minor": 2
}
